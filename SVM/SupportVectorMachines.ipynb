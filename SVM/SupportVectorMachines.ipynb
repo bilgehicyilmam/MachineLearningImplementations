{
 "cells": [
  {
   "cell_type": "code",
   "execution_count": 1,
   "metadata": {},
   "outputs": [],
   "source": [
    "import numpy as np\n",
    "from sklearn import svm\n",
    "from sklearn import datasets\n",
    "from sklearn.model_selection import train_test_split\n",
    "from sklearn.metrics import accuracy_score"
   ]
  },
  {
   "cell_type": "code",
   "execution_count": 2,
   "metadata": {},
   "outputs": [],
   "source": [
    "def generate_dataset():\n",
    "\n",
    "    X, y = datasets.make_blobs(n_samples=500, centers=2, random_state=42)\n",
    "    y = np.where(y <= 0, -1, 1)\n",
    "    X_train, X_test, y_train, y_test = train_test_split(X, y, random_state=0)\n",
    "    return X_train, X_test, y_train, y_test"
   ]
  },
  {
   "cell_type": "code",
   "execution_count": 3,
   "metadata": {},
   "outputs": [],
   "source": [
    "def SVM_Primal_Solution(X_train, X_test, y_train, y_test):\n",
    "\n",
    "    class SVM:\n",
    "\n",
    "        def __init__(self, learning_rate = 0.001, lmbda=0.01):\n",
    "\n",
    "            self.learning_rate = learning_rate\n",
    "            self.lmbda = lmbda\n",
    "            self.weight = None\n",
    "            self.bias = None\n",
    "\n",
    "        def fit(self, X, y):\n",
    "\n",
    "            self.weight = np.random.randn(X.shape[1])\n",
    "            self.bias = np.random.randn()\n",
    "\n",
    "            for i in range(1000):\n",
    "\n",
    "                hyperplane = np.dot(X, self.weight) + self.bias\n",
    "\n",
    "                for xi,yi,hi in zip(X, y, hyperplane):\n",
    "\n",
    "                    # if no misclassification\n",
    "                    if yi * hi >= 1:\n",
    "                        derivative_weight = np.dot(self.lmbda, self.weight)\n",
    "                        self.weight -= self.learning_rate * derivative_weight\n",
    "\n",
    "                    # if misclassification\n",
    "                    else:\n",
    "                        derivative_weight = np.dot(self.lmbda, self.weight) - np.dot(xi, yi)\n",
    "                        derivative_bias = -yi\n",
    "                        self.weight -= self.learning_rate * derivative_weight\n",
    "                        self.bias -= self.learning_rate * derivative_bias\n",
    "\n",
    "        def predict(self, X):\n",
    "\n",
    "            return np.sign(np.dot(X, self.weight) + self.bias)\n",
    "\n",
    "        def accuracy(self, y, y_prediction):\n",
    "\n",
    "            return np.sum(y == y_prediction) / len(y)\n",
    "\n",
    "    sv = SVM()\n",
    "    sv.fit(X_train, y_train)\n",
    "    prediction = sv.predict(X_test)\n",
    "    print(\"Accuracy rate of SVM Primal Solution: {}\".format(sv.accuracy(y_test, prediction)))"
   ]
  },
  {
   "cell_type": "code",
   "execution_count": 4,
   "metadata": {},
   "outputs": [],
   "source": [
    "def SVM_with_Sklearn(X_train, X_test, y_train, y_test):\n",
    "\n",
    "    sv = svm.SVC()\n",
    "    sv.fit(X_train,y_train)\n",
    "    prediction = sv.predict(X_test)\n",
    "    print(\"Accuracy rate of SVM with Sklearn: {}\".format(accuracy_score(y_test, prediction)))"
   ]
  },
  {
   "cell_type": "code",
   "execution_count": 5,
   "metadata": {},
   "outputs": [
    {
     "name": "stdout",
     "output_type": "stream",
     "text": [
      "Accuracy rate of SVM Primal Solution: 1.0\n",
      "Accuracy rate of SVM with Sklearn: 1.0\n"
     ]
    }
   ],
   "source": [
    "if __name__ == \"__main__\":\n",
    "\n",
    "    X_train, X_test, y_train, y_test = generate_dataset()\n",
    "    SVM_Primal_Solution(X_train, X_test, y_train, y_test)\n",
    "    SVM_with_Sklearn(X_train, X_test, y_train, y_test)"
   ]
  },
  {
   "cell_type": "code",
   "execution_count": null,
   "metadata": {},
   "outputs": [],
   "source": []
  }
 ],
 "metadata": {
  "kernelspec": {
   "display_name": "Python 3",
   "language": "python",
   "name": "python3"
  },
  "language_info": {
   "codemirror_mode": {
    "name": "ipython",
    "version": 3
   },
   "file_extension": ".py",
   "mimetype": "text/x-python",
   "name": "python",
   "nbconvert_exporter": "python",
   "pygments_lexer": "ipython3",
   "version": "3.8.3"
  }
 },
 "nbformat": 4,
 "nbformat_minor": 4
}
